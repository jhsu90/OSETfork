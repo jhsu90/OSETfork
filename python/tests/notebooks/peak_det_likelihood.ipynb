{
 "cells": [
  {
   "cell_type": "code",
   "id": "initial_id",
   "metadata": {
    "collapsed": true,
    "jupyter": {
     "is_executing": true
    }
   },
   "source": [
    "import scipy.io\n",
    "import numpy as np\n",
    "import matplotlib.pyplot as plt\n",
    "import matlab\n",
    "import matlab.engine\n",
    "from oset.generic.lp_filter.lp_filter_zero_phase import lp_filter_zero_phase\n",
    "from oset.ecg.peak_detection.peak_det_likelihood import peak_det_likelihood"
   ],
   "outputs": [],
   "execution_count": null
  },
  {
   "metadata": {
    "jupyter": {
     "is_executing": true
    }
   },
   "cell_type": "code",
   "source": [
    "mat = scipy.io.loadmat(\"../../../datasets/sample-data/SampleECGData.mat\")[\"ECGdata\"][4]\n",
    "f = 1\n",
    "fs = 1000\n",
    "fc = 0.5\n",
    "\n",
    "mat = mat[0: 60 * fs]\n",
    "mat = np.array([mat])\n",
    "t = np.arange(len(mat[0])) / fs\n",
    "\n",
    "mat = mat - lp_filter_zero_phase(mat, fc / fs)\n",
    "peaks, peak_indexes, peak_indexes_consensus, qrs_likelihood = peak_det_likelihood(mat, fs)"
   ],
   "id": "f72ce9f51cd14c0a",
   "outputs": [],
   "execution_count": null
  },
  {
   "metadata": {
    "jupyter": {
     "is_executing": true
    }
   },
   "cell_type": "code",
   "source": [
    "eng = matlab.engine.start_matlab()\n",
    "x = matlab.double(mat.tolist())\n",
    "params = {}\n",
    "params['filter_type'] = 'BANDPASS_FILTER'\n",
    "eng.addpath(\"../../../matlab/tools/ecg\")\n",
    "eng.addpath(\"../../../matlab/tools/generic\")\n",
    "mat_results = eng.peak_det_likelihood(x, float(fs), params, nargout=2)"
   ],
   "id": "a116ce47de33d31b",
   "outputs": [],
   "execution_count": null
  },
  {
   "metadata": {
    "jupyter": {
     "is_executing": true
    }
   },
   "cell_type": "code",
   "source": [
    "mat = mat[:, 0: 5 * fs]\n",
    "t = t[0: 5 * fs]\n",
    "# peak_indexes += 1\n",
    "peak_indexes = peak_indexes[0:11]\n",
    "mat_results = np.array(mat_results[1][0]).astype(int)[0][0:11]\n",
    "plt.figure()\n",
    "plt.figure(figsize=(12, 5))\n",
    "plt.plot(t, mat[0], \"k\", label=\"ECG CH4\")\n",
    "\n",
    "plt.plot(t[peak_indexes], mat[0][peak_indexes], \"ro\", label=\"ECG Peaks Python\")\n",
    "plt.plot(t[mat_results], mat[0][mat_results], \"yo\", label=\"ECG Peaks Matlab\")\n",
    "plt.xlabel(\"time (sec.)\")\n",
    "plt.legend()\n",
    "plt.grid()\n",
    "plt.show()"
   ],
   "id": "fd33a79a94a4ffbd",
   "outputs": [],
   "execution_count": null
  },
  {
   "metadata": {
    "jupyter": {
     "is_executing": true
    }
   },
   "cell_type": "code",
   "source": [
    "print(mat_results)\n",
    "print(peak_indexes)"
   ],
   "id": "7ea23b5507fae544",
   "outputs": [],
   "execution_count": null
  },
  {
   "metadata": {
    "jupyter": {
     "is_executing": true
    }
   },
   "cell_type": "code",
   "source": "",
   "id": "5e54b9b68a2bcf14",
   "outputs": [],
   "execution_count": null
  }
 ],
 "metadata": {
  "kernelspec": {
   "display_name": "Python 3",
   "language": "python",
   "name": "python3"
  },
  "language_info": {
   "codemirror_mode": {
    "name": "ipython",
    "version": 2
   },
   "file_extension": ".py",
   "mimetype": "text/x-python",
   "name": "python",
   "nbconvert_exporter": "python",
   "pygments_lexer": "ipython2",
   "version": "2.7.6"
  }
 },
 "nbformat": 4,
 "nbformat_minor": 5
}
